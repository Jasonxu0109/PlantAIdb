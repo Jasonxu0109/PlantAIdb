{
 "cells": [
  {
   "cell_type": "code",
   "execution_count": 2,
   "id": "10479619",
   "metadata": {},
   "outputs": [],
   "source": [
    "# 载入需要的R包\n",
    "# Load the required packages\n",
    "library(ggplot2)\n",
    "library(tidyverse)\n",
    "library(data.table)\n",
    "library(ggsci)\n",
    "library(Biostrings)\n",
    "library(ape)\n",
    "library(mgsub)\n",
    "library(stringi)\n",
    "library(keras)\n",
    "library(tensorflow)\n",
    "library(readxl)\n",
    "library(plotrix) \n",
    "library(ggplotify)\n",
    "library(patchwork)\n",
    "library(ggpubr)\n",
    "library(Hmisc) \n",
    "library(caret)"
   ]
  },
  {
   "cell_type": "code",
   "execution_count": 3,
   "id": "a5fe85a1",
   "metadata": {},
   "outputs": [],
   "source": [
    "# 对于混合的碱基，用N进行表示\n",
    "# As for mix-bases, for instance M (Adenine/Cytidine), symbols for mix-bases from genomic sequence were replaced with Ns symbols.\n",
    "ChangeN <- function(sequence){\n",
    "    base_seq <- lapply(sequence,function(x){\n",
    "        x <- toupper(x)\n",
    "        x <- unlist(str_split(x,\"\"))\n",
    "        for(i in 1:length(x)){\n",
    "            if(! x[i] %in% c(\"A\",\"T\",\"G\",\"C\")){\n",
    "                x[i] <- \"N\"\n",
    "            }\n",
    "        }\n",
    "        x <- paste0(x,collapse = \"\")\n",
    "    })\n",
    "    base_seq <- unlist(base_seq)\n",
    "    return(base_seq)\n",
    "}"
   ]
  },
  {
   "cell_type": "code",
   "execution_count": 4,
   "id": "f0689e25",
   "metadata": {},
   "outputs": [],
   "source": [
    "# 采用one-hot编码的方式对序列进行编码\n",
    "# We adopted one-hot encoding method to convert each nucleotide sequence into a binary vector, \n",
    "# such as A (1, 0, 0, 0, 0), C (0, 1, 0, 0, 0), G (0, 0, 1, 0, 0), T (0, 0, 0, 1, 0), N (0, 0, 0, 0, 1). \n",
    "EncodingSeq <- function(sequence){\n",
    "    A <- \"10000\"\n",
    "    C <- \"01000\"\n",
    "    G <- \"00100\"\n",
    "    T <- \"00010\"\n",
    "    N <- \"00001\"\n",
    "    encoded_seq <- lapply(sequence,function(x){\n",
    "        x <- toupper(x)\n",
    "        x <- gsub(\"A\",A,x)\n",
    "        x <- gsub(\"C\",C,x)\n",
    "        x <- gsub(\"G\",G,x)\n",
    "        x <- gsub(\"T\",T,x)\n",
    "        x <- gsub(\"N\",N,x)\n",
    "    })\n",
    "    encoded_seq <- unlist(encoded_seq)\n",
    "    return(encoded_seq)\n",
    "}"
   ]
  },
  {
   "cell_type": "code",
   "execution_count": 5,
   "id": "2ff27ee1",
   "metadata": {},
   "outputs": [],
   "source": [
    "# 提取RNA编辑位点的侧翼序列\n",
    "# for each RNA editing site, we extracted the flanking sequence of different lengths nucleotides (nt) from a cytidine\n",
    "Extract_seq <- function(Sequence, Position, Strand, base_len=90){\n",
    "        base <- Sequence\n",
    "        len <- str_length(base)\n",
    "        pos <- Position\n",
    "        start <- pos-base_len\n",
    "        end <- pos+base_len\n",
    "        if(start<1){\n",
    "            start_str <- paste(rep(\"N\",abs(start)+1),collapse ='')\n",
    "        }else{\n",
    "            start_str <- \"\"\n",
    "        }\n",
    "        if(end>len){\n",
    "            end_str <- paste(rep(\"N\",end-len),collapse ='')\n",
    "        }else{\n",
    "            end_str <- \"\"\n",
    "        }\n",
    "        final_base <- paste0(start_str,substr(base,start,end),end_str)\n",
    "        final_base <- paste0(substr(final_base,1,base_len),substr(final_base,base_len+2,base_len*2+1))\n",
    "        if(Strand==0){\n",
    "            final_base <- mgsub(final_base,c(\"A\",\"T\",\"G\",\"C\",\"a\",\"g\",\"t\",\"c\",\"N\",\"n\"), c(\"T\",\"A\",\"C\",\"G\",\"t\",\"c\",\"a\",\"g\",\"N\",\"n\"))\n",
    "            final_base <- stri_reverse(final_base)\n",
    "        }\n",
    "    return(final_base)\n",
    "}"
   ]
  },
  {
   "cell_type": "code",
   "execution_count": 6,
   "id": "52f5ddb1",
   "metadata": {},
   "outputs": [],
   "source": [
    "# 将one-hot编码的序列转换成3维矩阵\n",
    "# Converting one-hot encoded sequence into 3D matrix\n",
    "convStringToMatrix <- function(encodedSeqs, seq_len=100){\n",
    "  # ensure the character type of encodedSeqs\n",
    "  encodedSeqs <- as.character(encodedSeqs)\n",
    "  # create the feature matrix:\n",
    "  x_array <- array(data = 0, dim = c(5,seq_len, length(encodedSeqs)))\n",
    "  s <- 1 # sequence/instance index\n",
    "  r <- 1 # row of the matrix, each row represents A,T/U, G, C\n",
    "  c <- 1 # column of the matrix, each column represents each nucleotide in the 200nt sequence\n",
    "  j <- 1 # index of character in the one-hot encoded string\n",
    "  # store each character into the right place of 3D matrix\n",
    "  while (s <= length(encodedSeqs)) {\n",
    "    c <- 1\n",
    "    while (c <= seq_len) {\n",
    "      r <- 1\n",
    "      while (r <= 5) {\n",
    "        x_array[r,c,s] <- as.integer(substr(encodedSeqs[s], j,j))\n",
    "        r <- r + 1\n",
    "        j <- j + 1\n",
    "      }\n",
    "      c <- c + 1\n",
    "    }\n",
    "    s <- s + 1\n",
    "    j <- 1\n",
    "  }\n",
    "\n",
    "  #change the index order of x_array to the one keras package required:\n",
    "  x_array_new <- aperm(x_array,c(3,2,1))\n",
    "  return(x_array_new)\n",
    "}"
   ]
  },
  {
   "cell_type": "code",
   "execution_count": 7,
   "id": "77b6b378",
   "metadata": {},
   "outputs": [],
   "source": [
    "# 读取一个fasta序列的数据\n",
    "# load a sequence in fasta format\n",
    "data <- readDNAStringSet(\"accd_Chloroplast.fasta\")\n",
    "data <- data.frame(Sequence=data,Strand=1)\n",
    "data$Sequence <- ChangeN(data$Sequence)"
   ]
  },
  {
   "cell_type": "code",
   "execution_count": 8,
   "id": "cabe9ba0",
   "metadata": {},
   "outputs": [],
   "source": [
    "# 提取待预测的C位置信息\n",
    "# extract the position of cytidines from fasta sequence\n",
    "editSite <- lapply(1:nrow(data),function(i){\n",
    "    x <- unlist(str_split(data$Sequence[i],''))\n",
    "    cDNA.position <- which(x==\"C\")\n",
    "    Strand <- data$Strand[i]\n",
    "    re <- data.frame(Gene=rownames(data)[i],cDNA.position,Strand)\n",
    "})\n",
    "editSite <- do.call('rbind',editSite)"
   ]
  },
  {
   "cell_type": "code",
   "execution_count": 9,
   "id": "bd8cdf6b",
   "metadata": {},
   "outputs": [],
   "source": [
    "# 设置RNA编辑位点的侧翼序列长度，\n",
    "# setting length of flanking sequence of C-to-U RNA editing sites\n",
    "flank_len <- 90\n",
    "# 载入模型\n",
    "# load a CNN model\n",
    "model <- load_model_hdf5(paste0(\"Choose_flank_\",flank_len,\"_ratio_1.hdf5\"))"
   ]
  },
  {
   "cell_type": "code",
   "execution_count": 10,
   "id": "be1057d7",
   "metadata": {},
   "outputs": [],
   "source": [
    "# 提取C的侧翼序列\n",
    "# extracted the flanking sequence of 90 lengths nucleotides (nt) from a cytidine \n",
    "RNA_input_seq <- c()\n",
    "for(i in 1:nrow(editSite)){\n",
    "    Sequence <- data$Sequence[rownames(data)==editSite$Gene[i]]\n",
    "    Position <- editSite$cDNA.position[i]\n",
    "    Strand <- editSite$Strand[i]\n",
    "    Seq <- Extract_seq(Sequence, Position, Strand, base_len=90)\n",
    "    RNA_input_seq <- c(RNA_input_seq,Seq)\n",
    "}"
   ]
  },
  {
   "cell_type": "code",
   "execution_count": 11,
   "id": "eb695cbb",
   "metadata": {},
   "outputs": [],
   "source": [
    "encoded_seq  <- EncodingSeq(RNA_input_seq)\n",
    "encoded_seq2 <- convStringToMatrix(encoded_seq,seq_len=flank_len*2)"
   ]
  },
  {
   "cell_type": "code",
   "execution_count": 12,
   "id": "2e64914d",
   "metadata": {},
   "outputs": [],
   "source": [
    "# 预测C被编辑的可能性\n",
    "# calculated probability value of RNA editing site\n",
    "classes <- model %>% predict(encoded_seq2)"
   ]
  },
  {
   "cell_type": "code",
   "execution_count": 13,
   "id": "85fa1baf",
   "metadata": {},
   "outputs": [],
   "source": [
    "editSite$probability <- classes[,2]"
   ]
  },
  {
   "cell_type": "markdown",
   "id": "f38894c5",
   "metadata": {},
   "source": [
    "# R Session Information"
   ]
  },
  {
   "cell_type": "code",
   "execution_count": 14,
   "id": "b9b69342",
   "metadata": {},
   "outputs": [
    {
     "data": {
      "text/plain": [
       "R version 4.3.2 (2023-10-31 ucrt)\n",
       "Platform: x86_64-w64-mingw32/x64 (64-bit)\n",
       "Running under: Windows 10 x64 (build 19044)\n",
       "\n",
       "Matrix products: default\n",
       "\n",
       "\n",
       "locale:\n",
       "[1] LC_COLLATE=Chinese (Simplified)_China.utf8 \n",
       "[2] LC_CTYPE=Chinese (Simplified)_China.utf8   \n",
       "[3] LC_MONETARY=Chinese (Simplified)_China.utf8\n",
       "[4] LC_NUMERIC=C                               \n",
       "[5] LC_TIME=Chinese (Simplified)_China.utf8    \n",
       "\n",
       "time zone: Asia/Shanghai\n",
       "tzcode source: internal\n",
       "\n",
       "attached base packages:\n",
       "[1] stats4    stats     graphics  grDevices utils     datasets  methods  \n",
       "[8] base     \n",
       "\n",
       "other attached packages:\n",
       " [1] caret_6.0-94           lattice_0.22-5         Hmisc_5.1-1           \n",
       " [4] ggpubr_0.6.0           patchwork_1.1.3        ggplotify_0.1.2       \n",
       " [7] plotrix_3.8-4          readxl_1.4.3           tensorflow_2.14.0.9000\n",
       "[10] keras_2.13.0           stringi_1.8.1          mgsub_1.7.3           \n",
       "[13] ape_5.7-1              Biostrings_2.70.1      GenomeInfoDb_1.38.1   \n",
       "[16] XVector_0.42.0         IRanges_2.36.0         S4Vectors_0.40.2      \n",
       "[19] BiocGenerics_0.48.1    ggsci_3.0.0            data.table_1.14.8     \n",
       "[22] lubridate_1.9.3        forcats_1.0.0          stringr_1.5.1         \n",
       "[25] dplyr_1.1.4            purrr_1.0.2            readr_2.1.4           \n",
       "[28] tidyr_1.3.0            tibble_3.2.1           tidyverse_2.0.0       \n",
       "[31] ggplot2_3.4.4         \n",
       "\n",
       "loaded via a namespace (and not attached):\n",
       "  [1] rstudioapi_0.15.0       jsonlite_1.8.7          magrittr_2.0.3         \n",
       "  [4] rmarkdown_2.25          fs_1.6.3                zlibbioc_1.48.0        \n",
       "  [7] vctrs_0.6.4             memoise_2.0.1           RCurl_1.98-1.13        \n",
       " [10] base64enc_0.1-3         rstatix_0.7.2           htmltools_0.5.7        \n",
       " [13] broom_1.0.5             cellranger_1.1.0        pROC_1.18.5            \n",
       " [16] Formula_1.2-5           gridGraphics_0.5-1      parallelly_1.36.0      \n",
       " [19] htmlwidgets_1.6.4       plyr_1.8.9              cachem_1.0.8           \n",
       " [22] uuid_1.1-1              whisker_0.4.1           lifecycle_1.0.4        \n",
       " [25] iterators_1.0.14        pkgconfig_2.0.3         Matrix_1.6-4           \n",
       " [28] R6_2.5.1                fastmap_1.1.1           GenomeInfoDbData_1.2.11\n",
       " [31] future_1.33.0           digest_0.6.33           colorspace_2.1-0       \n",
       " [34] rprojroot_2.0.4         fansi_1.0.5             tfruns_1.5.1           \n",
       " [37] timechange_0.2.0        abind_1.4-5             compiler_4.3.2         \n",
       " [40] here_1.0.1              withr_2.5.2             htmlTable_2.4.2        \n",
       " [43] backports_1.4.1         carData_3.0-5           ggsignif_0.6.4         \n",
       " [46] MASS_7.3-60             lava_1.7.3              rappdirs_0.3.3         \n",
       " [49] ModelMetrics_1.2.2.2    tools_4.3.2             foreign_0.8-86         \n",
       " [52] future.apply_1.11.0     nnet_7.3-19             glue_1.6.2             \n",
       " [55] nlme_3.1-164            grid_4.3.2              pbdZMQ_0.3-10          \n",
       " [58] checkmate_2.3.1         reshape2_1.4.4          cluster_2.1.6          \n",
       " [61] generics_0.1.3          recipes_1.0.8           gtable_0.3.4           \n",
       " [64] tzdb_0.4.0              class_7.3-22            hms_1.1.3              \n",
       " [67] car_3.1-2               utf8_1.2.4              foreach_1.5.2          \n",
       " [70] pillar_1.9.0            yulab.utils_0.1.0       IRdisplay_1.1          \n",
       " [73] splines_4.3.2           survival_3.5-7          tidyselect_1.2.0       \n",
       " [76] knitr_1.45              gridExtra_2.3           xfun_0.41              \n",
       " [79] hardhat_1.3.0           timeDate_4022.108       evaluate_0.23          \n",
       " [82] codetools_0.2-19        cli_3.6.1               IRkernel_1.3.2         \n",
       " [85] rpart_4.1.21            reticulate_1.34.0       repr_1.1.6             \n",
       " [88] munsell_0.5.0           Rcpp_1.0.11             globals_0.16.2         \n",
       " [91] zeallot_0.1.0           png_0.1-8               parallel_4.3.2         \n",
       " [94] gower_1.0.1             bitops_1.0-7            listenv_0.9.0          \n",
       " [97] ipred_0.9-14            scales_1.3.0            prodlim_2023.08.28     \n",
       "[100] crayon_1.5.2            rlang_1.1.2            "
      ]
     },
     "metadata": {},
     "output_type": "display_data"
    }
   ],
   "source": [
    "utils::sessionInfo()"
   ]
  },
  {
   "cell_type": "code",
   "execution_count": null,
   "id": "59bff413",
   "metadata": {},
   "outputs": [],
   "source": []
  }
 ],
 "metadata": {
  "kernelspec": {
   "display_name": "R",
   "language": "R",
   "name": "ir"
  },
  "language_info": {
   "codemirror_mode": "r",
   "file_extension": ".r",
   "mimetype": "text/x-r-source",
   "name": "R",
   "pygments_lexer": "r",
   "version": "4.3.2"
  }
 },
 "nbformat": 4,
 "nbformat_minor": 5
}
