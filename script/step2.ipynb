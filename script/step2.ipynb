{
 "cells": [
  {
   "cell_type": "code",
   "execution_count": 44,
   "id": "cc663e8e",
   "metadata": {},
   "outputs": [],
   "source": [
    "# 载入需要的R包\n",
    "# Load the required packages\n",
    "library(keras)\n",
    "library(tensorflow)\n",
    "library(ROCR) \n",
    "library(pROC)\n",
    "library(ggplot2)\n",
    "library(tidyverse)\n",
    "library(ggsci)\n",
    "library(cowplot)\n",
    "library(reshape2)\n",
    "library(patchwork)\n",
    "library(yardstick)\n",
    "library(caret)\n",
    "library(randomForest)\n",
    "library(e1071)\n",
    "library(kernlab)\n",
    "library(precrec)\n",
    "library(ggbreak)\n",
    "library(Biostrings)\n",
    "library(readxl)"
   ]
  },
  {
   "cell_type": "code",
   "execution_count": 2,
   "id": "6410805a",
   "metadata": {},
   "outputs": [],
   "source": [
    "keras <- import(\"keras\")"
   ]
  },
  {
   "cell_type": "code",
   "execution_count": 3,
   "id": "59595850",
   "metadata": {},
   "outputs": [],
   "source": [
    "# 采用one-hot编码的方式对序列进行编码\n",
    "# We adopted one-hot encoding method to convert each nucleotide sequence into a binary vector, \n",
    "# such as A (1, 0, 0, 0, 0), C (0, 1, 0, 0, 0), G (0, 0, 1, 0, 0), T (0, 0, 0, 1, 0), N (0, 0, 0, 0, 1). \n",
    "EncodingSeq <- function(sequence){\n",
    "    A <- \"10000\"\n",
    "    C <- \"01000\"\n",
    "    G <- \"00100\"\n",
    "    T <- \"00010\"\n",
    "    N <- \"00001\"\n",
    "    encoded_seq <- lapply(sequence,function(x){\n",
    "        x <- toupper(x)\n",
    "        x <- gsub(\"A\",A,x)\n",
    "        x <- gsub(\"C\",C,x)\n",
    "        x <- gsub(\"G\",G,x)\n",
    "        x <- gsub(\"T\",T,x)\n",
    "        x <- gsub(\"N\",N,x)\n",
    "    })\n",
    "    encoded_seq <- unlist(encoded_seq)\n",
    "    return(encoded_seq)\n",
    "}"
   ]
  },
  {
   "cell_type": "code",
   "execution_count": 4,
   "id": "e5162db8",
   "metadata": {},
   "outputs": [],
   "source": [
    "# 将one-hot编码的序列转换成3维矩阵\n",
    "# Converting one-hot encoded sequence into 3D matrix\n",
    "convStringToMatrix <- function(encodedSeqs, seq_len=100){\n",
    "  # ensure the character type of encodedSeqs\n",
    "  encodedSeqs <- as.character(encodedSeqs)\n",
    "  # create the feature matrix:\n",
    "  x_array <- array(data = 0, dim = c(5,seq_len, length(encodedSeqs)))\n",
    "  s <- 1 # sequence/instance index\n",
    "  r <- 1 # row of the matrix, each row represents A,T/U, G, C\n",
    "  c <- 1 # column of the matrix, each column represents each nucleotide in the 100nt sequence\n",
    "  j <- 1 # index of character in the one-hot encoded string\n",
    "  # store each character into the right place of 3D matrix\n",
    "  while (s <= length(encodedSeqs)) {\n",
    "    c <- 1\n",
    "    while (c <= seq_len) {\n",
    "      r <- 1\n",
    "      while (r <= 5) {\n",
    "        x_array[r,c,s] <- as.integer(substr(encodedSeqs[s], j,j))\n",
    "        r <- r + 1\n",
    "        j <- j + 1\n",
    "      }\n",
    "      c <- c + 1\n",
    "    }\n",
    "    s <- s + 1\n",
    "    j <- 1\n",
    "  }\n",
    "\n",
    "  #change the index order of x_array to the one keras package required:\n",
    "  x_array_new <- aperm(x_array,c(3,2,1))\n",
    "  return(x_array_new)\n",
    "}"
   ]
  },
  {
   "cell_type": "code",
   "execution_count": 5,
   "id": "0a91f698",
   "metadata": {},
   "outputs": [],
   "source": [
    "# 构建CNN训练模型\n",
    "# Model architecture\n",
    "train_model <- function(x_train, y_train, flank_len){\n",
    "    tf$random$set_seed(123)\n",
    "    set.seed(123)\n",
    "    set_random_seed(123)\n",
    "    model <- keras_model_sequential()\n",
    "    model %>%\n",
    "        layer_conv_1d(filters = 128, kernel_size = 12, strides = 1,padding = \"valid\",input_shape = c(flank_len*2,5), activation = \"relu\") %>%\n",
    "        layer_dropout(0)%>%\n",
    "        layer_conv_1d(filters = 128, kernel_size = 6, strides = 1,activation = 'relu') %>%\n",
    "        layer_dropout(0.5) %>%\n",
    "        layer_max_pooling_1d(pool_size =5, strides =4)%>%\n",
    "        layer_dropout(0.5)%>%\n",
    "        layer_flatten() %>%\n",
    "        layer_dense(units = 2, activation = \"softmax\")\n",
    "    model %>% compile(\n",
    "        loss = \"binary_crossentropy\",\n",
    "        optimizer = optimizer_rmsprop(),\n",
    "        metrics = c(\"accuracy\")\n",
    "      )\n",
    "    model %>% \n",
    "       fit(\n",
    "         x = x_train, y =y_train,\n",
    "         epochs = 50,\n",
    "         validation_split = 0.1,\n",
    "         verbose = 2\n",
    "       )\n",
    "    return(model)\n",
    "}"
   ]
  },
  {
   "cell_type": "code",
   "execution_count": 6,
   "id": "8f4049d7",
   "metadata": {},
   "outputs": [],
   "source": [
    "# 按照正负样本集的比例进行模型训练选择\n",
    "# the ratio of the positive and negative instances was set as 1∶1, 1∶2, 1∶3, 1∶4 and 1∶5, respectively\n",
    "Ratio <- c(\"1:1\",\"1:2\",\"1:3\",\"1:4\",\"1:5\")"
   ]
  },
  {
   "cell_type": "markdown",
   "id": "8f1e9408",
   "metadata": {},
   "source": [
    "## The performance of PlantC2U in independent test based on the different flanking sequence and the ratio of positive and negative instances from clusters."
   ]
  },
  {
   "cell_type": "raw",
   "id": "69527414",
   "metadata": {},
   "source": [
    "performance <- NULL\n",
    "for(flank_len in seq(20,100,10)){\n",
    "    print(flank_len)\n",
    "    Positive <- readBStringSet(paste0(\"../model/Choose_flank_\",flank_len,\"_positive_seq.fasta\")) \n",
    "    Positive <- data.frame(Positive)\n",
    "    for(ratio in 1:5){\n",
    "        Negative <- readBStringSet(paste0(\"../model/Choose_flank_\",flank_len,\"_negative_seq_\",ratio,\".fasta\")) \n",
    "        Negative <- data.frame(Negative)\n",
    "        label <- c(rep(1,nrow(Positive)),rep(0,nrow(Negative)))\n",
    "        data <- data.frame(label,RNA_input_seq=c(Positive$Positive,Negative$Negative))\n",
    "        rownames(data) <- c(rownames(Positive),rownames(Negative))\n",
    "        data$encoded_seq <- EncodingSeq(data$RNA_input_seq)\n",
    "       # 将数据集按三比一划分为训练集和测试集。\n",
    "       # For positive and negative instances, we randomly divided them into two subsets with set.seed=123: 75% for training and 25% for testing\n",
    "        set.seed(123)\n",
    "        inx <- sample(1:nrow(data),0.75*nrow(data))\n",
    "        train <- data[inx,]\n",
    "        test <- data[-inx,]\n",
    "        x_train <- convStringToMatrix(train$encoded_seq,seq_len=flank_len*2) \n",
    "        x_test <- convStringToMatrix(test$encoded_seq,seq_len=flank_len*2)\n",
    "        y_train <- to_categorical(train$label,2) \n",
    "        y_test <- to_categorical(test$label,2)\n",
    "        model <- train_model(x_train, y_train, flank_len)\n",
    "        \n",
    "        # 保存训练模型，保存训练集和测试集\n",
    "        # save training model\n",
    "        # save training and testing dataset\n",
    "        save_model_hdf5(model,filepath=paste0(\"../model/Choose_flank_\",flank_len,\"_ratio_\",ratio,\".hdf5\"))\n",
    "        save(train,test,file=paste0(\"../model/Choose_flank_\",flank_len,\"_ratio_\",ratio,\".Rdata\"))\n",
    "        classes <- model %>% predict(x_test)\n",
    "        # calculate Sensitivity, Specificity, Positive Predictive Value (PPV), Accuracy, Balanced Accuracy (BA) and the Matthew's Correlation Coefficient (MCC)\n",
    "        AUC_ROC <- roc(y_test[,2],classes[,2])\n",
    "        AUC_ROC <- AUC_ROC$auc\n",
    "        pred.class <- as.integer(classes[,2] > 0.5)\n",
    "        TBL <- table(pred.class, y_test[,2])\n",
    "        TP <- TBL[2,2]\n",
    "        FP <- TBL[2,1]                  \n",
    "        TN <- TBL[1,1]                                                                     \n",
    "        FN <- TBL[1,2]\n",
    "        Specificity <- TN/(TN+FP)\n",
    "        Sensitivity <- TP/(TP+FN)\n",
    "        Precision <- TP/(TP+FP)\n",
    "        Recall <- TP/(TP+FN)\n",
    "        F1 <- 2 * (Precision*Recall/(Precision+Recall))\n",
    "        MCC <- (TP*TN-FP*FN)/sqrt((TP+FP)*(TP+FN))/sqrt((TN+FP)*(TN+FN))\n",
    "        Accuracy <- (TP+TN)/(TP+TN+FP+FN)\n",
    "        PPV <- TP/(TP + FP) \n",
    "        BA <- (Specificity+Sensitivity)/2\n",
    "        pred <- prediction(classes[,2],y_test[,2])\n",
    "        re <- data.frame(flank_len,Ratio[ratio],Sensitivity,Specificity,PPV,AUC_ROC,Accuracy,BA,MCC)\n",
    "        performance <- rbind(performance,re)\n",
    "    }\n",
    "}"
   ]
  },
  {
   "cell_type": "code",
   "execution_count": 7,
   "id": "7d30a608",
   "metadata": {},
   "outputs": [],
   "source": [
    "#write.csv(performance,\"../Tables/model_performance_clusters.csv\",row.names=F)"
   ]
  },
  {
   "cell_type": "markdown",
   "id": "65671d99",
   "metadata": {},
   "source": [
    "# Figure S1A"
   ]
  },
  {
   "cell_type": "code",
   "execution_count": 8,
   "id": "b75d727f",
   "metadata": {},
   "outputs": [],
   "source": [
    "performance <- read.csv(\"../Tables/model_performance_clusters.csv\")"
   ]
  },
  {
   "cell_type": "code",
   "execution_count": 9,
   "id": "631b2fd2",
   "metadata": {},
   "outputs": [
    {
     "data": {
      "image/png": "[encoded data removed]",
      "text/plain": [
       "plot without title"
      ]
     },
     "metadata": {
      "image/png": {
       "height": 480,
       "width": 480
      }
     },
     "output_type": "display_data"
    }
   ],
   "source": [
    "options(repr.plot.width=8, repr.plot.height=8)\n",
    "FigureS1A <- performance %>%\n",
    "    dplyr::select(flank_len, Ratio=Ratio.ratio.,PPV,AUC_ROC,Accuracy,BA) %>%\n",
    "    melt(.,id=c('flank_len','Ratio')) %>%\n",
    "    mutate(flank_len=factor(flank_len)) %>%\n",
    "    ggplot(aes(flank_len,value,fill=Ratio))+\n",
    "        geom_bar(stat='identity',position = position_dodge())+\n",
    "        theme_bw()+\n",
    "        #scale_y_break(c(0.1,0.7))+\n",
    "        facet_wrap(~variable)+\n",
    "        theme(axis.text = element_text(size=14,color='black'),\n",
    "             legend.position='right',\n",
    "             strip.text = element_text(size = 14))+\n",
    "        scale_fill_npg()+\n",
    "        ylim(0,1)+\n",
    "        xlab(\"Flanking  sequence length (nt) from sequences clusters\")+ylab(\"\")\n",
    "FigureS1A"
   ]
  },
  {
   "cell_type": "markdown",
   "id": "65022055",
   "metadata": {},
   "source": [
    "### The performance of PlantC2U in independent test based on the different flanking sequence and the ratio of positive and negative instances from primary negative samples."
   ]
  },
  {
   "cell_type": "raw",
   "id": "13a617d5",
   "metadata": {},
   "source": [
    "performance2 <- NULL\n",
    "for(flank_len in seq(20,100,10)){\n",
    "    print(flank_len)\n",
    "    Negative <- readBStringSet(paste0(\"../model/Choose_flank_\",flank_len,\"_negative_seq.fasta\")) \n",
    "    Negative <- data.frame(Negative)\n",
    "    Negative <- Negative$Negative\n",
    "    Positive <- readBStringSet(paste0(\"../model/Choose_flank_\",flank_len,\"_positive_seq.fasta\")) \n",
    "    Positive <- data.frame(Positive)\n",
    "    Positive <- Positive$Positive\n",
    "    for(ratio in 1:5){       \n",
    "        set.seed(123)\n",
    "        negative <- sample(Negative,length(Positive)*ratio)\n",
    "        label <- c(rep(1,length(Positive)),rep(0,length(negative)))\n",
    "        data <- data.frame(label,RNA_input_seq=c(Positive,negative))\n",
    "        data$encoded_seq <- EncodingSeq(data$RNA_input_seq)\n",
    "       # 将数据集按三比一划分为训练集和测试集。\n",
    "       # For positive and negative instances, we randomly divided them into two subsets with set.seed=123: 75% for training and 25% for testing\n",
    "        set.seed(123)\n",
    "        inx <- sample(1:nrow(data),0.75*nrow(data))\n",
    "        train <- data[inx,]\n",
    "        test <- data[-inx,]\n",
    "        x_train <- convStringToMatrix(train$encoded_seq,seq_len=flank_len*2) \n",
    "        x_test <- convStringToMatrix(test$encoded_seq,seq_len=flank_len*2)\n",
    "        y_train <- to_categorical(train$label,2) \n",
    "        y_test <- to_categorical(test$label,2)\n",
    "        model <- train_model(x_train, y_train, flank_len)\n",
    "        classes <- model %>% predict(x_test)\n",
    "        # calculate Sensitivity, Specificity, Positive Predictive Value (PPV), Accuracy, Balanced Accuracy (BA) and the Matthew's Correlation Coefficient (MCC)\n",
    "        AUC_ROC <- roc(y_test[,2],classes[,2])\n",
    "        AUC_ROC <- AUC_ROC$auc\n",
    "        pred.class <- as.integer(classes[,2] > 0.5)\n",
    "        TBL <- table(pred.class, y_test[,2])\n",
    "        TP <- TBL[2,2]\n",
    "        FP <- TBL[2,1]                  \n",
    "        TN <- TBL[1,1]                                                                     \n",
    "        FN <- TBL[1,2]\n",
    "        Specificity <- TN/(TN+FP)\n",
    "        Sensitivity <- TP/(TP+FN)\n",
    "        Precision <- TP/(TP+FP)\n",
    "        Recall <- TP/(TP+FN)\n",
    "        F1 <- 2 * (Precision*Recall/(Precision+Recall))\n",
    "        MCC <- (TP*TN-FP*FN)/sqrt((TP+FP)*(TP+FN))/sqrt((TN+FP)*(TN+FN))\n",
    "        Accuracy <- (TP+TN)/(TP+TN+FP+FN)\n",
    "        PPV <- TP/(TP + FP) \n",
    "        BA <- (Specificity+Sensitivity)/2\n",
    "        pred <- prediction(classes[,2],y_test[,2])\n",
    "        re <- data.frame(flank_len,Ratio[ratio],Sensitivity,Specificity,PPV,AUC_ROC,Accuracy,BA,MCC)\n",
    "        performance2 <- rbind(performance2,re)\n",
    "    }\n",
    "}"
   ]
  },
  {
   "cell_type": "code",
   "execution_count": 10,
   "id": "0e494e4d",
   "metadata": {},
   "outputs": [],
   "source": [
    "# write.csv(performance2,\"../Tables/model_performance_primary_negative_samples.csv\",row.names=F)"
   ]
  },
  {
   "cell_type": "markdown",
   "id": "c03fe528",
   "metadata": {},
   "source": [
    "# Figure S1B"
   ]
  },
  {
   "cell_type": "code",
   "execution_count": 11,
   "id": "8cf0e145",
   "metadata": {},
   "outputs": [],
   "source": [
    "performance2 <- read.csv(\"../Tables/model_performance_primary_negative_samples.csv\")"
   ]
  },
  {
   "cell_type": "code",
   "execution_count": 12,
   "id": "8d54c613",
   "metadata": {},
   "outputs": [
    {
     "data": {
      "image/png": "[encoded data removed]",
      "text/plain": [
       "plot without title"
      ]
     },
     "metadata": {
      "image/png": {
       "height": 480,
       "width": 480
      }
     },
     "output_type": "display_data"
    }
   ],
   "source": [
    "options(repr.plot.width=8, repr.plot.height=8)\n",
    "FigureS1B <- performance2 %>%\n",
    "    dplyr::select(flank_len, Ratio=Ratio.ratio.,PPV,AUC_ROC,Accuracy,BA) %>%\n",
    "    melt(.,id=c('flank_len','Ratio')) %>%\n",
    "    mutate(flank_len=factor(flank_len)) %>%\n",
    "    ggplot(aes(flank_len,value,fill=Ratio))+\n",
    "        geom_bar(stat='identity',position = position_dodge())+\n",
    "        theme_bw()+\n",
    "        facet_wrap(~variable)+\n",
    "        theme(axis.text = element_text(size=14,color='black'),\n",
    "             legend.position='right',\n",
    "             strip.text = element_text(size = 14))+\n",
    "        scale_fill_npg()+\n",
    "        xlab(\"Flanking  sequence length (nt) from primary negative samples\")+ylab(\"\")+\n",
    "        ylim(0,1)#+\n",
    "        #scale_y_break(c(0.1,0.7))\n",
    "FigureS1B "
   ]
  },
  {
   "cell_type": "code",
   "execution_count": 13,
   "id": "66ebbd10",
   "metadata": {},
   "outputs": [],
   "source": [
    "Figure2B <- performance2 %>%\n",
    "               dplyr::select(flank_len, Ratio=Ratio.ratio.,MCC) %>% \n",
    "                mutate(Samples=\"The primary negative samples\")"
   ]
  },
  {
   "cell_type": "code",
   "execution_count": 14,
   "id": "f64749e0",
   "metadata": {},
   "outputs": [],
   "source": [
    "Figure2A <- performance %>%\n",
    "               dplyr::select(flank_len, Ratio=Ratio.ratio.,MCC) %>% \n",
    "                mutate(Samples=\"The sequences clusters\")"
   ]
  },
  {
   "cell_type": "code",
   "execution_count": 15,
   "id": "2ce43307",
   "metadata": {},
   "outputs": [],
   "source": [
    "figure2A2B <- rbind(Figure2B,Figure2A)"
   ]
  },
  {
   "cell_type": "markdown",
   "id": "912902f9",
   "metadata": {},
   "source": [
    "# Figure2A 2B"
   ]
  },
  {
   "cell_type": "code",
   "execution_count": 16,
   "id": "7895a034",
   "metadata": {},
   "outputs": [
    {
     "data": {
      "image/png": "[encoded data removed]",
      "text/plain": [
       "plot without title"
      ]
     },
     "metadata": {
      "image/png": {
       "height": 300,
       "width": 600
      }
     },
     "output_type": "display_data"
    }
   ],
   "source": [
    "options(repr.plot.width=10, repr.plot.height=5)\n",
    "Figure2A2B <- figure2A2B %>%\n",
    "    mutate(flank_len=factor(flank_len)) %>%\n",
    "    ggplot(aes(flank_len,MCC,fill=Ratio))+\n",
    "        geom_bar(stat='identity',position = position_dodge())+\n",
    "        theme_bw()+\n",
    "        theme(axis.text = element_text(size=8,color='black'),\n",
    "             legend.position='top',\n",
    "             strip.text = element_text(size = 8))+\n",
    "        scale_fill_npg()+\n",
    "        xlab(\"Flanking  sequence length (nt)\")+\n",
    "    facet_grid(~Samples)\n",
    "Figure2A2B"
   ]
  },
  {
   "cell_type": "markdown",
   "id": "6430c039",
   "metadata": {},
   "source": [
    "# PREPACT"
   ]
  },
  {
   "cell_type": "code",
   "execution_count": 17,
   "id": "359d9790",
   "metadata": {},
   "outputs": [],
   "source": [
    "# In this study, we concluded that the 90-nt flanking sequence in combination with the 1:1 ratio of positive and negative instances \n",
    "# from sequence clusters would make the model perform better than other combinations\n",
    "flank_len <- 90\n",
    "load(\"../model/Choose_flank_90_ratio_1.RData\")\n",
    "x_train <- convStringToMatrix(train$encoded_seq,seq_len=flank_len*2) \n",
    "x_test <- convStringToMatrix(test$encoded_seq,seq_len=flank_len*2)\n",
    "y_train <- to_categorical(train$label,2) \n",
    "y_test <- to_categorical(test$label,2)\n",
    "model <- keras$models$load_model(\"../model/Choose_flank_90_ratio_1.hdf5\")\n",
    "cnn_pred <- model$predict(x_test)"
   ]
  },
  {
   "cell_type": "code",
   "execution_count": 18,
   "id": "e142b218",
   "metadata": {},
   "outputs": [],
   "source": [
    "# in this study, we applied PREPACT tool to predict C-to-U RNA editing sites by using the public web service of PREPACT, \n",
    "# and then evaluated its performance based on the same testing dataset as PlantC2U\n",
    "test_data <- lapply(rownames(test),function(name){\n",
    "    x <- unlist(str_split(name,\"_\"))\n",
    "    if(length(x)==6){\n",
    "        re <- data.frame(genbank=x[3],Org=x[4],gene=x[5],pos=x[6],name)\n",
    "    }else{\n",
    "        genbank <- paste0(x[3],\"_\",x[4])\n",
    "        re <- data.frame(genbank,Org=x[5],gene=x[6],pos=x[7],name)\n",
    "    }\n",
    "    return(re)\n",
    "})\n",
    "test_data <- do.call('rbind',test_data)"
   ]
  },
  {
   "cell_type": "code",
   "execution_count": 19,
   "id": "d104fb62",
   "metadata": {},
   "outputs": [],
   "source": [
    "prepact <- readLines(\"../REDIdb/test_Genbank.csv\")"
   ]
  },
  {
   "cell_type": "code",
   "execution_count": 20,
   "id": "1a8fdcfb",
   "metadata": {},
   "outputs": [],
   "source": [
    "prepact2 <- lapply(prepact,function(x){\n",
    "    x <- unlist(str_split(x,\",\"))\n",
    "    x2 <- unique(x[-c(1:2)])\n",
    "    if(x[2]==\"pseudo-rbcL\"){\n",
    "        x[2] <- \"rbcL\"\n",
    "        x2 <- x2[grepl(x[2],x2)]\n",
    "        x2 <- gsub(x[2],\"\",x2)\n",
    "        pos <- str_extract(x2,\"\\\\d+\")\n",
    "        pos <- unique(pos)\n",
    "    }else if(x[2]==\"ycf10\" | x[2]==\"cemA\"){\n",
    "        x2 <- x2[grep(\"ycf10|cemA\",x2)]\n",
    "        x2 <- gsub(\"ycf10\",\"\",x2)\n",
    "        x2 <- gsub(\"cemA\",\"\",x2)\n",
    "        pos <- str_extract(x2,\"\\\\d+\")\n",
    "        pos <- unique(pos)\n",
    "    }else{\n",
    "        x2 <- x2[grepl(x[2],x2)]\n",
    "        x2 <- gsub(x[2],\"\",x2)\n",
    "        pos <- str_extract(x2,\"\\\\d+\")\n",
    "        pos <- unique(pos)        \n",
    "    }\n",
    "    re <- data.frame(genbank=x[1],gene=x[2],pos,percentage=x[length(x)])\n",
    "    return(re)\n",
    "})"
   ]
  },
  {
   "cell_type": "code",
   "execution_count": 21,
   "id": "76630ccb",
   "metadata": {},
   "outputs": [],
   "source": [
    "prepact2 <- do.call('rbind',prepact2)"
   ]
  },
  {
   "cell_type": "code",
   "execution_count": 22,
   "id": "32f49c66",
   "metadata": {},
   "outputs": [],
   "source": [
    "reference <- readLines(\"../REDIdb/test_Genbank_reference.csv\")"
   ]
  },
  {
   "cell_type": "code",
   "execution_count": 23,
   "id": "dcda612d",
   "metadata": {},
   "outputs": [],
   "source": [
    "reference <- lapply(reference,function(x){\n",
    "    x <- unlist(str_split(x,\",\"))\n",
    "    re <- data.frame(genbank=x[1],gene=x[2],reference=paste(x[-c(1:2)],collapse =\",\"))\n",
    "    return(re)\n",
    "})"
   ]
  },
  {
   "cell_type": "code",
   "execution_count": 24,
   "id": "1835f246",
   "metadata": {},
   "outputs": [],
   "source": [
    "reference <- do.call(\"rbind\",reference)"
   ]
  },
  {
   "cell_type": "code",
   "execution_count": 25,
   "id": "53646f7d",
   "metadata": {},
   "outputs": [
    {
     "name": "stderr",
     "output_type": "stream",
     "text": [
      "\u001b[1m\u001b[22mJoining with `by = join_by(genbank, gene, pos)`\n",
      "\u001b[1m\u001b[22mJoining with `by = join_by(genbank, gene)`\n"
     ]
    }
   ],
   "source": [
    "PREPACT <- test_data %>%\n",
    "    left_join(prepact2) %>%\n",
    "    left_join(reference) %>%\n",
    "    mutate(percentage=ifelse(is.na(percentage),0,as.numeric(percentage)))"
   ]
  },
  {
   "cell_type": "code",
   "execution_count": 26,
   "id": "8552e2b9",
   "metadata": {},
   "outputs": [
    {
     "data": {
      "text/html": [
       "<style>\n",
       ".list-inline {list-style: none; margin:0; padding: 0}\n",
       ".list-inline>li {display: inline-block}\n",
       ".list-inline>li:not(:last-child)::after {content: \"\\00b7\"; padding: 0 .5ex}\n",
       "</style>\n",
       "<ol class=list-inline><li>791</li><li>7</li></ol>\n"
      ],
      "text/latex": [
       "\\begin{enumerate*}\n",
       "\\item 791\n",
       "\\item 7\n",
       "\\end{enumerate*}\n"
      ],
      "text/markdown": [
       "1. 791\n",
       "2. 7\n",
       "\n",
       "\n"
      ],
      "text/plain": [
       "[1] 791   7"
      ]
     },
     "metadata": {},
     "output_type": "display_data"
    }
   ],
   "source": [
    "dim(PREPACT)"
   ]
  },
  {
   "cell_type": "code",
   "execution_count": 27,
   "id": "6fbd4c42",
   "metadata": {},
   "outputs": [],
   "source": [
    "## We used the caret R package to implement randomForest and e1071 R packages for RF and SVM model \n",
    "## training with 10-fold cross-validation, respectively.\n",
    "flank_len <- 90\n",
    "ratio <- 1\n",
    "Positive <- readBStringSet(paste0(\"../model/Choose_flank_\",flank_len,\"_positive_seq.fasta\")) \n",
    "Positive <- data.frame(Positive)\n",
    "Negative <- readBStringSet(paste0(\"../model/Choose_flank_\",flank_len,\"_negative_seq_\",ratio,\".fasta\")) \n",
    "Negative <- data.frame(Negative)\n",
    "label <- c(rep(1,nrow(Positive)),rep(0,nrow(Negative)))\n",
    "data <- data.frame(label,RNA_input_seq=c(Positive$Positive,Negative$Negative))\n",
    "data$encoded_seq <- EncodingSeq(data$RNA_input_seq)"
   ]
  },
  {
   "cell_type": "code",
   "execution_count": 28,
   "id": "2eacf04d",
   "metadata": {},
   "outputs": [],
   "source": [
    "feature <- lapply(data$encoded_seq,function(x){\n",
    "    x <- as.numeric(unlist(str_split(x,\"\")))\n",
    "    x <- t(data.frame(feature=x))\n",
    "    x <- data.frame(x)\n",
    "})"
   ]
  },
  {
   "cell_type": "code",
   "execution_count": 29,
   "id": "ff8f9fb3",
   "metadata": {},
   "outputs": [],
   "source": [
    "feature <- do.call('rbind',feature)"
   ]
  },
  {
   "cell_type": "code",
   "execution_count": 30,
   "id": "6a3a781c",
   "metadata": {},
   "outputs": [],
   "source": [
    "feature$label <- factor(data$label)"
   ]
  },
  {
   "cell_type": "code",
   "execution_count": 31,
   "id": "624d349e",
   "metadata": {},
   "outputs": [],
   "source": [
    "set.seed(123)\n",
    "inx <- sample(1:nrow(feature),0.75*nrow(feature))\n",
    "train <- feature[inx,]\n",
    "test <- feature[-inx,]"
   ]
  },
  {
   "cell_type": "markdown",
   "id": "75d8aea1",
   "metadata": {},
   "source": [
    "# randomForest"
   ]
  },
  {
   "cell_type": "code",
   "execution_count": 32,
   "id": "86bf1710",
   "metadata": {},
   "outputs": [],
   "source": [
    "# We used the caret R package to implement randomForest R package for model training with 10-fold cross-validation\n",
    "ctrl <- trainControl(method = \"cv\",\n",
    "                     number=10)\n",
    "set.seed(123)\n",
    "rf <- train(label ~ ., data = train,\n",
    "             method = \"rf\",\n",
    "             ntree = 100,\n",
    "             trControl = ctrl,\n",
    "             tuneGrid = data.frame(mtry = 30))"
   ]
  },
  {
   "cell_type": "code",
   "execution_count": 33,
   "id": "edbc3d4c",
   "metadata": {},
   "outputs": [],
   "source": [
    "rf_pred <- predict(rf,test,type=\"prob\")"
   ]
  },
  {
   "cell_type": "markdown",
   "id": "e9458b5d",
   "metadata": {},
   "source": [
    "# SVM"
   ]
  },
  {
   "cell_type": "code",
   "execution_count": 34,
   "id": "699d2f8f",
   "metadata": {},
   "outputs": [
    {
     "name": "stderr",
     "output_type": "stream",
     "text": [

     ]
    }
   ],
   "source": [
    "# We used the caret R package to implement e1071 R packages for SVM model training with 10-fold cross-validation\n",
    "svm_model <- train(label ~ ., data = train,\n",
    "             method = \"svmLinear\",\n",
    "             trControl = ctrl)"
   ]
  },
  {
   "cell_type": "code",
   "execution_count": 35,
   "id": "f75cb403",
   "metadata": {},
   "outputs": [],
   "source": [
    "svm_pred <- predict(svm_model,test)"
   ]
  },
  {
   "cell_type": "code",
   "execution_count": 36,
   "id": "2bed885b",
   "metadata": {},
   "outputs": [],
   "source": [
    "result <- data.frame(label=test$label, CNN=cnn_pred[,2], rf= rf_pred[,2], svm =  as.numeric(svm_pred)-1,PREPACT=PREPACT$percentage)"
   ]
  },
  {
   "cell_type": "code",
   "execution_count": 37,
   "id": "dbf6ee27",
   "metadata": {},
   "outputs": [
    {
     "name": "stderr",
     "output_type": "stream",
     "text": [
      "Setting levels: control = 0, case = 1\n",
      "\n",
      "Setting direction: controls < cases\n",
      "\n"
     ]
    },
    {
     "name": "stdout",
     "output_type": "stream",
     "text": [
      "\n",
      "Call:\n",
      "roc.default(response = result$label, predictor = result[, i])\n",
      "\n",
      "Data: result[, i] in 399 controls (result$label 0) < 392 cases (result$label 1).\n",
      "Area under the curve: 0.9991\n"
     ]
    },
    {
     "name": "stderr",
     "output_type": "stream",
     "text": [
      "Setting levels: control = 0, case = 1\n",
      "\n",
      "Setting direction: controls < cases\n",
      "\n"
     ]
    },
    {
     "name": "stdout",
     "output_type": "stream",
     "text": [
      "\n",
      "Call:\n",
      "roc.default(response = result$label, predictor = result[, i])\n",
      "\n",
      "Data: result[, i] in 399 controls (result$label 0) < 392 cases (result$label 1).\n",
      "Area under the curve: 0.9871\n"
     ]
    },
    {
     "name": "stderr",
     "output_type": "stream",
     "text": [
      "Setting levels: control = 0, case = 1\n",
      "\n",
      "Setting direction: controls < cases\n",
      "\n"
     ]
    },
    {
     "name": "stdout",
     "output_type": "stream",
     "text": [
      "\n",
      "Call:\n",
      "roc.default(response = result$label, predictor = result[, i])\n",
      "\n",
      "Data: result[, i] in 399 controls (result$label 0) < 392 cases (result$label 1).\n",
      "Area under the curve: 0.8964\n"
     ]
    },
    {
     "name": "stderr",
     "output_type": "stream",
     "text": [
      "Setting levels: control = 0, case = 1\n",
      "\n",
      "Setting direction: controls < cases\n",
      "\n"
     ]
    },
    {
     "name": "stdout",
     "output_type": "stream",
     "text": [
      "\n",
      "Call:\n",
      "roc.default(response = result$label, predictor = result[, i])\n",
      "\n",
      "Data: result[, i] in 399 controls (result$label 0) < 392 cases (result$label 1).\n",
      "Area under the curve: 0.9137\n"
     ]
    }
   ],
   "source": [
    "Model <- c('CNN','Random Forest','SVM','PREPACT')\n",
    "roclist <- lapply(2:5,function(i){\n",
    "    roclist <- roc(result$label, result[,i])\n",
    "    print(roclist)\n",
    "})\n",
    "names(roclist) <- Model"
   ]
  },
  {
   "cell_type": "code",
   "execution_count": 38,
   "id": "7b6dc61c",
   "metadata": {},
   "outputs": [],
   "source": [
    "mycolor <- c(\"#20ACBD\", \"#cc8e12\", \"#d561dd\",'red')"
   ]
  },
  {
   "cell_type": "markdown",
   "id": "746efde5",
   "metadata": {},
   "source": [
    "# Figure2C"
   ]
  },
  {
   "cell_type": "code",
   "execution_count": 39,
   "id": "5a6c11a0",
   "metadata": {},
   "outputs": [
    {
     "name": "stderr",
     "output_type": "stream",
     "text": [
      "Warning message:\n",
      "\"\u001b[1m\u001b[22mUsing `size` aesthetic for lines was deprecated in ggplot2 3.4.0.\n",
      "\u001b[36mℹ\u001b[39m Please use `linewidth` instead.\"\n"
     ]
    },
    {
     "data": {
      "image/png": "[encoded data removed]",
      "text/plain": [
       "plot without title"
      ]
     },
     "metadata": {
      "image/png": {
       "height": 240,
       "width": 360
      }
     },
     "output_type": "display_data"
    }
   ],
   "source": [
    "options(repr.plot.width=6, repr.plot.height=4)\n",
    "Figure2C <- ggroc(roclist,legacy.axes=T,size=1)+\n",
    "    theme_bw()+\n",
    "    theme(axis.title=element_text(size=8),\n",
    "            axis.text=element_text(size=8,color='black'),\n",
    "            legend.position=\"none\",\n",
    "             plot.title = element_text(hjust = 0.5))+\n",
    "    xlab(\"False Positive Rate\")+ylab(\"True Positive Rate\")+\n",
    "    ggtitle(\"ROC curves\")+\n",
    "    geom_abline(intercept = 0, slope = 1,linetype=\"dashed\",size=1)+\n",
    "    scale_color_manual(values=mycolor)+\n",
    "guides(color=guide_legend(title = \"Model\"))\n",
    "Figure2C"
   ]
  },
  {
   "cell_type": "code",
   "execution_count": 40,
   "id": "3c9f105f",
   "metadata": {},
   "outputs": [
    {
     "name": "stdout",
     "output_type": "stream",
     "text": [
      "[1] \"CNN\"\n",
      "  modnames dsids curvetypes      aucs\n",
      "1       m1     1        ROC 0.9990538\n",
      "2       m1     1        PRC 0.9992567\n",
      "[1] \"Random Forest\"\n",
      "  modnames dsids curvetypes      aucs\n",
      "1       m1     1        ROC 0.9870851\n",
      "2       m1     1        PRC 0.9846268\n",
      "[1] \"SVM\"\n",
      "  modnames dsids curvetypes      aucs\n",
      "1       m1     1        ROC 0.8963704\n",
      "2       m1     1        PRC 0.8672532\n",
      "[1] \"PREPACT\"\n",
      "  modnames dsids curvetypes      aucs\n",
      "1       m1     1        ROC 0.9137224\n",
      "2       m1     1        PRC 0.9369761\n"
     ]
    }
   ],
   "source": [
    "SRRs <- lapply(2:5,function(i){\n",
    "    print(Model[i-1])\n",
    "    re <- data.frame(V1=result$label, V2=result[,i])\n",
    "    re$V1 <- factor(re$V1)\n",
    "    # Calculate ROC and Precision-Recall curves\n",
    "    re <- evalmod(scores = re$V2, labels = re$V1)\n",
    "    aucs <- auc(re)\n",
    "    aucs_prc <- subset(aucs, curvetypes == \"PRC\")\n",
    "    print(aucs)\n",
    "    re <- re %>%\n",
    "    as.data.frame() %>%\n",
    "    mutate(Model=Model[i-1])\n",
    "    return(re)\n",
    "})\n",
    "SRRs <- do.call(\"rbind\",SRRs)"
   ]
  },
  {
   "cell_type": "markdown",
   "id": "7194080c",
   "metadata": {},
   "source": [
    "# Figure2D"
   ]
  },
  {
   "cell_type": "code",
   "execution_count": 41,
   "id": "10bf164f",
   "metadata": {},
   "outputs": [
    {
     "data": {
      "image/png": "[encoded data removed]",
      "text/plain": [
       "plot without title"
      ]
     },
     "metadata": {
      "image/png": {
       "height": 240,
       "width": 360
      }
     },
     "output_type": "display_data"
    }
   ],
   "source": [
    "Figure2D <- SRRs %>%\n",
    "    as.data.frame() %>%\n",
    "    filter(type==\"PRC\") %>%\n",
    "    ggplot(aes(x,y,color=Model))+\n",
    "        geom_line(size=1)+\n",
    "    theme_bw()+\n",
    "    theme(axis.title=element_text(size=8),\n",
    "            axis.text=element_text(size=8,color='black'),\n",
    "            legend.position=\"none\",\n",
    "             plot.title = element_text(hjust = 0.5))+\n",
    "    xlab(\"Recall\")+ylab(\"Precision\")+\n",
    "    ggtitle(\"Precision-recall curves\")+\n",
    "scale_color_manual(values=c(\"#20ACBD\",'red' ,\"#cc8e12\",\"#d561dd\"))\n",
    "Figure2D"
   ]
  },
  {
   "cell_type": "markdown",
   "id": "43d82003",
   "metadata": {},
   "source": [
    "# Figure2"
   ]
  },
  {
   "cell_type": "code",
   "execution_count": 42,
   "id": "1f54fe8c",
   "metadata": {},
   "outputs": [
    {
     "data": {
      "image/png": "[encoded data removed]",
      "text/plain": [
       "plot without title"
      ]
     },
     "metadata": {
      "image/png": {
       "height": 600,
       "width": 600
      }
     },
     "output_type": "display_data"
    }
   ],
   "source": [
    "options(repr.plot.width=10, repr.plot.height=10)\n",
    "Figure2 <- Figure2A2B/(Figure2C+Figure2D)+plot_annotation(tag_levels = 'A')\n",
    "Figure2"
   ]
  },
  {
   "cell_type": "markdown",
   "id": "f2b18594",
   "metadata": {},
   "source": [
    "# R Session Information"
   ]
  },
  {
   "cell_type": "code",
   "execution_count": 43,
   "id": "97ff8704",
   "metadata": {},
   "outputs": [
    {
     "data": {
      "text/plain": [
       "R version 4.3.1 (2023-06-16 ucrt)\n",
       "Platform: x86_64-w64-mingw32/x64 (64-bit)\n",
       "Running under: Windows 10 x64 (build 19044)\n",
       "\n",
       "Matrix products: default\n",
       "\n",
       "\n",
       "locale:\n",
       "[1] LC_COLLATE=Chinese (Simplified)_China.utf8 \n",
       "[2] LC_CTYPE=Chinese (Simplified)_China.utf8   \n",
       "[3] LC_MONETARY=Chinese (Simplified)_China.utf8\n",
       "[4] LC_NUMERIC=C                               \n",
       "[5] LC_TIME=Chinese (Simplified)_China.utf8    \n",
       "\n",
       "time zone: Asia/Shanghai\n",
       "tzcode source: internal\n",
       "\n",
       "attached base packages:\n",
       "[1] stats4    stats     graphics  grDevices utils     datasets  methods  \n",
       "[8] base     \n",
       "\n",
       "other attached packages:\n",
       " [1] readxl_1.4.3         Biostrings_2.68.1    GenomeInfoDb_1.36.1 \n",
       " [4] XVector_0.40.0       IRanges_2.34.1       S4Vectors_0.38.1    \n",
       " [7] BiocGenerics_0.46.0  ggbreak_0.1.2        precrec_0.14.2      \n",
       "[10] kernlab_0.9-32       e1071_1.7-13         randomForest_4.7-1.1\n",
       "[13] caret_6.0-94         lattice_0.21-8       yardstick_1.2.0     \n",
       "[16] patchwork_1.1.2      reshape2_1.4.4       cowplot_1.1.1       \n",
       "[19] ggsci_3.0.0          lubridate_1.9.2      forcats_1.0.0       \n",
       "[22] stringr_1.5.0        dplyr_1.1.2          purrr_1.0.1         \n",
       "[25] readr_2.1.4          tidyr_1.3.0          tibble_3.2.1        \n",
       "[28] tidyverse_2.0.0      ggplot2_3.4.2        pROC_1.18.4         \n",
       "[31] ROCR_1.0-11          tensorflow_2.11.0    keras_2.11.1        \n",
       "\n",
       "loaded via a namespace (and not attached):\n",
       " [1] bitops_1.0-7            rlang_1.1.1             magrittr_2.0.3         \n",
       " [4] compiler_4.3.1          png_0.1-8               vctrs_0.6.3            \n",
       " [7] pkgconfig_2.0.3         crayon_1.5.2            fastmap_1.1.1          \n",
       "[10] labeling_0.4.2          utf8_1.2.3              prodlim_2023.03.31     \n",
       "[13] tzdb_0.4.0              zlibbioc_1.46.0         aplot_0.1.10           \n",
       "[16] jsonlite_1.8.7          recipes_1.0.6           uuid_1.1-0             \n",
       "[19] parallel_4.3.1          R6_2.5.1                stringi_1.7.12         \n",
       "[22] reticulate_1.30         parallelly_1.36.0       rpart_4.1.19           \n",
       "[25] cellranger_1.1.0        assertthat_0.2.1        Rcpp_1.0.11            \n",
       "[28] IRkernel_1.3.2.9000     iterators_1.0.14        future.apply_1.11.0    \n",
       "[31] base64enc_0.1-3         Matrix_1.6-0            splines_4.3.1          \n",
       "[34] nnet_7.3-19             timechange_0.2.0        tidyselect_1.2.0       \n",
       "[37] timeDate_4022.108       codetools_0.2-19        listenv_0.9.0          \n",
       "[40] plyr_1.8.8              withr_2.5.0             evaluate_0.21          \n",
       "[43] gridGraphics_0.5-1      future_1.33.0           survival_3.5-5         \n",
       "[46] proxy_0.4-27            pillar_1.9.0            whisker_0.4.1          \n",
       "[49] foreach_1.5.2           ggfun_0.1.1             generics_0.1.3         \n",
       "[52] rprojroot_2.0.3         RCurl_1.98-1.12         IRdisplay_1.1          \n",
       "[55] hms_1.1.3               munsell_0.5.0           scales_1.2.1           \n",
       "[58] globals_0.16.2          class_7.3-22            glue_1.6.2             \n",
       "[61] tools_4.3.1             data.table_1.14.8       ModelMetrics_1.2.2.2   \n",
       "[64] gower_1.0.1             pbdZMQ_0.3-9            grid_4.3.1             \n",
       "[67] ipred_0.9-14            colorspace_2.1-0        GenomeInfoDbData_1.2.10\n",
       "[70] nlme_3.1-163            repr_1.1.6              cli_3.6.1              \n",
       "[73] rappdirs_0.3.3          tfruns_1.5.1            fansi_1.0.4            \n",
       "[76] lava_1.7.2.1            gtable_0.3.3            yulab.utils_0.0.6      \n",
       "[79] zeallot_0.1.0           digest_0.6.33           ggplotify_0.1.1        \n",
       "[82] farver_2.1.1            htmltools_0.5.5         lifecycle_1.0.3        \n",
       "[85] here_1.0.1              hardhat_1.3.0           MASS_7.3-60            "
      ]
     },
     "metadata": {},
     "output_type": "display_data"
    }
   ],
   "source": [
    "utils::sessionInfo()"
   ]
  }
 ],
 "metadata": {
  "kernelspec": {
   "display_name": "R",
   "language": "R",
   "name": "ir"
  },
  "language_info": {
   "codemirror_mode": "r",
   "file_extension": ".r",
   "mimetype": "text/x-r-source",
   "name": "R",
   "pygments_lexer": "r",
   "version": "4.3.1"
  }
 },
 "nbformat": 4,
 "nbformat_minor": 5
}
